{
 "cells": [
  {
   "cell_type": "markdown",
   "id": "b0c54eaa",
   "metadata": {},
   "source": [
    "business_name\tlast_update_date\tstreet_address\tmaterials_accepted\n",
    "Sims Municipal Recycling\tUpdated: 2024-07-15\t472 Second Ave, Brooklyn, NY 11232\t#1 Plastic (PET), #2 Plastic (HDPE), Film Plastic\n",
    "Green Tree Recycling Center\tUpdated: 2024-06-20\t211 E 43rd St, New York, NY 10017\t#1 Plastic (PET), #5 Plastic (PP)\n",
    "NYC Department of Sanitation\tUpdated: 2024-05-30\t44 Beaver St, New York, NY 10004\tAll Plastics (#1–7), Plastic Bags\n",
    "Big Apple Recycling Depot\tUpdated: 2024-07-01\t123 Lexington Ave, New York, NY 10010\tBottles, Containers, Plastic Wrap\n"
   ]
  },
  {
   "cell_type": "markdown",
   "id": "2837e523",
   "metadata": {},
   "source": [
    "Scraping Logic\n",
    "Page Loading:\n",
    "The script uses Selenium to load the Earth911 search URL.\n",
    "time.sleep(5) allows JavaScript to render dynamic content before parsing.\n",
    "Data Extraction:\n",
    "The page source is passed to BeautifulSoup.\n",
    "Each facility is located by the container <div class=\"location-info\">.\n",
    "Within each container:\n",
    "Business name, update date, address, and materials are extracted using HTML tags (h3, div, li).\n",
    "\n",
    "Pagination Handling (Currently Missing):\n",
    "The script only handles the first page of results.\n",
    "To support pagination:\n",
    "Detect and click the “Next” button via Selenium (e.g., driver.find_element(By.XPATH, \"//a[contains(text(),'Next')]\"))\n",
    "Loop through pages until the “Next” button is disabled or missing.\n",
    "Concatenate results from all pages before saving.\n",
    "\n",
    "Data Cleaning\n",
    ".get_text(strip=True) is used to remove excess whitespace and HTML.\n",
    "Address lines are joined using .get_text(\" \", strip=True) for formatting consistency.\n",
    "Materials list is joined into a single comma-separated string.\n",
    "You could enhance this by:\n",
    "Standardizing material names (e.g., converting \"PET\" → \"#1 Plastic\").\n",
    "Normalizing date formats.\n",
    "\n",
    "Error Handling\n",
    "Uses try/except blocks when accessing optional elements (like missing update dates or materials).\n",
    "Ensures that missing or malformed data won’t crash the script.\n",
    "Could be improved by:\n",
    "Logging missing fields.\n",
    "Retrying on network failure (e.g., using try around page loads).\n",
    "Adding a timeout for Selenium waits.\n",
    "\n"
   ]
  }
 ],
 "metadata": {
  "kernelspec": {
   "display_name": "Python 3 (ipykernel)",
   "language": "python",
   "name": "python3"
  },
  "language_info": {
   "codemirror_mode": {
    "name": "ipython",
    "version": 3
   },
   "file_extension": ".py",
   "mimetype": "text/x-python",
   "name": "python",
   "nbconvert_exporter": "python",
   "pygments_lexer": "ipython3",
   "version": "3.9.7"
  }
 },
 "nbformat": 4,
 "nbformat_minor": 5
}
