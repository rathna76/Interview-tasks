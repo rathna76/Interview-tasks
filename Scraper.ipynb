{
 "cells": [
  {
   "cell_type": "code",
   "execution_count": null,
   "id": "0014fe25",
   "metadata": {},
   "outputs": [],
   "source": [
    "# Setup Chrome WebDriver with headless option\n",
    "def setup_driver():\n",
    "    chrome_options = Options()\n",
    "    chrome_options.add_argument(\"--headless\")  # Comment out for debugging\n",
    "    chrome_options.add_argument(\"--disable-gpu\")\n",
    "    chrome_options.add_argument(\"--no-sandbox\")\n",
    "    service = Service('/path/to/chromedriver')  # Update this path\n",
    "    driver = webdriver.Chrome(service=service, options=chrome_options)\n",
    "    return driver\n"
   ]
  },
  {
   "cell_type": "code",
   "execution_count": null,
   "id": "858c2683",
   "metadata": {},
   "outputs": [],
   "source": [
    "# Extract facility data using BeautifulSoup\n",
    "def extract_data(soup):\n",
    "    results = []\n",
    "    listings = soup.find_all(\"div\", class_=\"location-info\")\n",
    "\n",
    "    for item in listings:\n",
    "        business_name = item.find(\"h3\")\n",
    "        business_name = business_name.get_text(strip=True) if business_name else \"\"\n",
    "\n",
    "        update_tag = item.find(\"div\", class_=\"updated-date\")\n",
    "        last_update_date = update_tag.get_text(strip=True) if update_tag else \"\"\n",
    "\n",
    "        address = item.find(\"div\", class_=\"address\")\n",
    "        street_address = address.get_text(\" \", strip=True) if address else \"\"\n",
    "\n",
    "        materials_section = item.find(\"div\", class_=\"materials-accepted\")\n",
    "        materials = materials_section.find_all(\"li\") if materials_section else []\n",
    "        materials_accepted = \", \".join([m.get_text(strip=True) for m in materials])\n",
    "\n",
    "        results.append({\n",
    "            \"business_name\": business_name,\n",
    "            \"last_update_date\": last_update_date,\n",
    "            \"street_address\": street_address,\n",
    "            \"materials_accepted\": materials_accepted\n",
    "        })\n",
    "    return results\n"
   ]
  },
  {
   "cell_type": "code",
   "execution_count": null,
   "id": "7f1af3b7",
   "metadata": {},
   "outputs": [],
   "source": [
    "# Load page and scrape data\n",
    "def scrape_facilities(search_material=\"glass\", search_zip=\"90210\"):\n",
    "    url = f\"https://search.earth911.com/?what={search_material}&where={search_zip}\"\n",
    "    driver = setup_driver()\n",
    "    driver.get(url)\n",
    "    time.sleep(5)  # wait for JS to render content\n",
    "\n",
    "    soup = BeautifulSoup(driver.page_source, \"html.parser\")\n",
    "    data = extract_data(soup)\n",
    "\n",
    "    driver.quit()\n",
    "    return data\n"
   ]
  },
  {
   "cell_type": "code",
   "execution_count": null,
   "id": "a76d7306",
   "metadata": {},
   "outputs": [],
   "source": [
    "# Save data to CSV\n",
    "def save_to_csv(data, filename=\"recycling_facilities.csv\"):\n",
    "    df = pd.DataFrame(data)\n",
    "    df.to_csv(filename, index=False)\n",
    "    print(f\"Saved {len(df)} entries to {filename}\")\n"
   ]
  },
  {
   "cell_type": "code",
   "execution_count": null,
   "id": "95252a05",
   "metadata": {},
   "outputs": [],
   "source": [
    "# Run everything\n",
    "if __name__ == \"__main__\":\n",
    "    facilities = scrape_facilities(search_material=\"plastic\", search_zip=\"10001\")\n",
    "    save_to_csv(facilities)\n"
   ]
  }
 ],
 "metadata": {
  "kernelspec": {
   "display_name": "Python 3 (ipykernel)",
   "language": "python",
   "name": "python3"
  },
  "language_info": {
   "codemirror_mode": {
    "name": "ipython",
    "version": 3
   },
   "file_extension": ".py",
   "mimetype": "text/x-python",
   "name": "python",
   "nbconvert_exporter": "python",
   "pygments_lexer": "ipython3",
   "version": "3.9.7"
  }
 },
 "nbformat": 4,
 "nbformat_minor": 5
}
